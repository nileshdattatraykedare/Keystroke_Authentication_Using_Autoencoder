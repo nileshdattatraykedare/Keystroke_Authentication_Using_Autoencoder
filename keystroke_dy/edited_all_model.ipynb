{
 "cells": [
  {
   "cell_type": "code",
   "execution_count": 64,
   "metadata": {},
   "outputs": [],
   "source": [
    "from keras.models import load_model\n",
    "import numpy as np\n",
    "from data_loader import loader\n",
    "import pandas as pd\n",
    "from sklearn.model_selection import train_test_split\n",
    "from sklearn.svm import SVC\n",
    "import numpy as np\n",
    "import matplotlib.pyplot as plt\n",
    "from scipy import stats\n",
    "import pandas as pd\n",
    "# use seaborn plotting defaults\n",
    "import seaborn as sns; sns.set()"
   ]
  },
  {
   "cell_type": "code",
   "execution_count": 65,
   "metadata": {},
   "outputs": [],
   "source": [
    "load_data = loader()\n",
    "train_x, _, _ = load_data.load() #returning 3 values"
   ]
  },
  {
   "cell_type": "code",
   "execution_count": 66,
   "metadata": {},
   "outputs": [
    {
     "data": {
      "text/plain": [
       "array([[0.16101098, 0.71168113, 0.08090997, ..., 0.08985591, 0.11852455,\n",
       "        0.09640622],\n",
       "       [0.39121771, 0.38435817, 0.04996991, ..., 0.09888697, 0.10576701,\n",
       "        0.09596419],\n",
       "       [0.08346653, 0.44809651, 0.04962182, ..., 0.0953505 , 0.10285568,\n",
       "        0.10576963],\n",
       "       ...,\n",
       "       [0.41457844, 0.46345091, 0.12972665, ..., 0.04751587, 0.06278849,\n",
       "        0.06289101],\n",
       "       [0.22662425, 0.3018105 , 0.09802246, ..., 0.0629034 , 0.04704452,\n",
       "        0.06341219],\n",
       "       [0.257303  , 0.33763957, 0.09541488, ..., 0.05061388, 0.06414247,\n",
       "        0.07907486]])"
      ]
     },
     "execution_count": 66,
     "metadata": {},
     "output_type": "execute_result"
    }
   ],
   "source": [
    "train_x"
   ]
  },
  {
   "cell_type": "code",
   "execution_count": null,
   "metadata": {},
   "outputs": [],
   "source": []
  },
  {
   "cell_type": "code",
   "execution_count": null,
   "metadata": {},
   "outputs": [],
   "source": []
  },
  {
   "cell_type": "code",
   "execution_count": 67,
   "metadata": {},
   "outputs": [
    {
     "data": {
      "text/plain": [
       "(60, 17)"
      ]
     },
     "execution_count": 67,
     "metadata": {},
     "output_type": "execute_result"
    }
   ],
   "source": [
    "train_x.shape"
   ]
  },
  {
   "cell_type": "code",
   "execution_count": 24,
   "metadata": {},
   "outputs": [],
   "source": [
    "data = pd.read_csv('./Rekita.csv', header=None)\n",
    "# y = data.iloc[:, 0].astype('category').cat.codes\n",
    "y = data.iloc[:, 0]"
   ]
  },
  {
   "cell_type": "code",
   "execution_count": 25,
   "metadata": {},
   "outputs": [
    {
     "data": {
      "text/plain": [
       "0     Rekita\n",
       "1     Rekita\n",
       "2     Rekita\n",
       "3     Rekita\n",
       "4     Rekita\n",
       "5       Deep\n",
       "6       Deep\n",
       "7       Deep\n",
       "8       Deep\n",
       "9       Deep\n",
       "10      Bhrt\n",
       "11      Bhrt\n",
       "12      Bhrt\n",
       "13      Bhrt\n",
       "14      Bhrt\n",
       "15      Deep\n",
       "16      Deep\n",
       "17      Deep\n",
       "18      Deep\n",
       "19      Deep\n",
       "20    Rekita\n",
       "21    Rekita\n",
       "22    Rekita\n",
       "23    Rekita\n",
       "24    Rekita\n",
       "25    Rekita\n",
       "26    Rekita\n",
       "27    Rekita\n",
       "28    Rekita\n",
       "29    Rekita\n",
       "30      hoka\n",
       "31      hoka\n",
       "32      hoka\n",
       "33      hoka\n",
       "34      hoka\n",
       "35      hoka\n",
       "36      hoka\n",
       "37      hoka\n",
       "38      hoka\n",
       "39      hoka\n",
       "40    Rekita\n",
       "41    Rekita\n",
       "42    Rekita\n",
       "43    Rekita\n",
       "44    Rekita\n",
       "45      Deep\n",
       "46      Deep\n",
       "47      Deep\n",
       "48      Deep\n",
       "49      Deep\n",
       "50    Patwal\n",
       "51    Patwal\n",
       "52    Patwal\n",
       "53    Patwal\n",
       "54    Patwal\n",
       "55    Patwal\n",
       "56    Patwal\n",
       "57    Patwal\n",
       "58    Patwal\n",
       "59    Patwal\n",
       "Name: 0, dtype: object"
      ]
     },
     "execution_count": 25,
     "metadata": {},
     "output_type": "execute_result"
    }
   ],
   "source": [
    "y"
   ]
  },
  {
   "cell_type": "code",
   "execution_count": 26,
   "metadata": {},
   "outputs": [
    {
     "name": "stderr",
     "output_type": "stream",
     "text": [
      "/usr/local/lib/python3.6/dist-packages/ipykernel_launcher.py:3: SettingWithCopyWarning: \n",
      "A value is trying to be set on a copy of a slice from a DataFrame\n",
      "\n",
      "See the caveats in the documentation: http://pandas.pydata.org/pandas-docs/stable/user_guide/indexing.html#returning-a-view-versus-a-copy\n",
      "  This is separate from the ipykernel package so we can avoid doing imports until\n"
     ]
    }
   ],
   "source": [
    "for i in range(len(y)):\n",
    "    if y[i] != 'Rekita':\n",
    "        y[i] = 'A'"
   ]
  },
  {
   "cell_type": "code",
   "execution_count": 27,
   "metadata": {},
   "outputs": [
    {
     "data": {
      "text/plain": [
       "0     Rekita\n",
       "1     Rekita\n",
       "2     Rekita\n",
       "3     Rekita\n",
       "4     Rekita\n",
       "5          A\n",
       "6          A\n",
       "7          A\n",
       "8          A\n",
       "9          A\n",
       "10         A\n",
       "11         A\n",
       "12         A\n",
       "13         A\n",
       "14         A\n",
       "15         A\n",
       "16         A\n",
       "17         A\n",
       "18         A\n",
       "19         A\n",
       "20    Rekita\n",
       "21    Rekita\n",
       "22    Rekita\n",
       "23    Rekita\n",
       "24    Rekita\n",
       "25    Rekita\n",
       "26    Rekita\n",
       "27    Rekita\n",
       "28    Rekita\n",
       "29    Rekita\n",
       "30         A\n",
       "31         A\n",
       "32         A\n",
       "33         A\n",
       "34         A\n",
       "35         A\n",
       "36         A\n",
       "37         A\n",
       "38         A\n",
       "39         A\n",
       "40    Rekita\n",
       "41    Rekita\n",
       "42    Rekita\n",
       "43    Rekita\n",
       "44    Rekita\n",
       "45         A\n",
       "46         A\n",
       "47         A\n",
       "48         A\n",
       "49         A\n",
       "50         A\n",
       "51         A\n",
       "52         A\n",
       "53         A\n",
       "54         A\n",
       "55         A\n",
       "56         A\n",
       "57         A\n",
       "58         A\n",
       "59         A\n",
       "Name: 0, dtype: object"
      ]
     },
     "execution_count": 27,
     "metadata": {},
     "output_type": "execute_result"
    }
   ],
   "source": [
    "y"
   ]
  },
  {
   "cell_type": "code",
   "execution_count": 28,
   "metadata": {},
   "outputs": [],
   "source": [
    "y = y.astype('category').cat.codes #conerting into 0/1\n",
    "train_y = y.to_numpy()#changing format"
   ]
  },
  {
   "cell_type": "code",
   "execution_count": 29,
   "metadata": {},
   "outputs": [
    {
     "data": {
      "text/plain": [
       "0     1\n",
       "1     1\n",
       "2     1\n",
       "3     1\n",
       "4     1\n",
       "5     0\n",
       "6     0\n",
       "7     0\n",
       "8     0\n",
       "9     0\n",
       "10    0\n",
       "11    0\n",
       "12    0\n",
       "13    0\n",
       "14    0\n",
       "15    0\n",
       "16    0\n",
       "17    0\n",
       "18    0\n",
       "19    0\n",
       "20    1\n",
       "21    1\n",
       "22    1\n",
       "23    1\n",
       "24    1\n",
       "25    1\n",
       "26    1\n",
       "27    1\n",
       "28    1\n",
       "29    1\n",
       "30    0\n",
       "31    0\n",
       "32    0\n",
       "33    0\n",
       "34    0\n",
       "35    0\n",
       "36    0\n",
       "37    0\n",
       "38    0\n",
       "39    0\n",
       "40    1\n",
       "41    1\n",
       "42    1\n",
       "43    1\n",
       "44    1\n",
       "45    0\n",
       "46    0\n",
       "47    0\n",
       "48    0\n",
       "49    0\n",
       "50    0\n",
       "51    0\n",
       "52    0\n",
       "53    0\n",
       "54    0\n",
       "55    0\n",
       "56    0\n",
       "57    0\n",
       "58    0\n",
       "59    0\n",
       "dtype: int8"
      ]
     },
     "execution_count": 29,
     "metadata": {},
     "output_type": "execute_result"
    }
   ],
   "source": [
    "y"
   ]
  },
  {
   "cell_type": "code",
   "execution_count": 30,
   "metadata": {},
   "outputs": [
    {
     "data": {
      "text/plain": [
       "array([1, 1, 1, 1, 1, 0, 0, 0, 0, 0, 0, 0, 0, 0, 0, 0, 0, 0, 0, 0, 1, 1,\n",
       "       1, 1, 1, 1, 1, 1, 1, 1, 0, 0, 0, 0, 0, 0, 0, 0, 0, 0, 1, 1, 1, 1,\n",
       "       1, 0, 0, 0, 0, 0, 0, 0, 0, 0, 0, 0, 0, 0, 0, 0], dtype=int8)"
      ]
     },
     "execution_count": 30,
     "metadata": {},
     "output_type": "execute_result"
    }
   ],
   "source": [
    "train_y"
   ]
  },
  {
   "cell_type": "code",
   "execution_count": 8,
   "metadata": {},
   "outputs": [
    {
     "name": "stderr",
     "output_type": "stream",
     "text": [
      "/usr/local/lib/python3.6/dist-packages/ipykernel_launcher.py:6: SettingWithCopyWarning: \n",
      "A value is trying to be set on a copy of a slice from a DataFrame\n",
      "\n",
      "See the caveats in the documentation: http://pandas.pydata.org/pandas-docs/stable/user_guide/indexing.html#returning-a-view-versus-a-copy\n",
      "  \n"
     ]
    }
   ],
   "source": [
    "# data = pd.read_csv('./Rekita.csv', header=None)\n",
    "# # y = data.iloc[:, 0].astype('category').cat.codes\n",
    "# y = data.iloc[:, 0]\n",
    "# for i in range(len(y)):\n",
    "#     if y[i] != 'Rekita':\n",
    "#         y[i] = 'A'\n",
    "# y = y.astype('category').cat.codes #conerting into 0/1\n",
    "# train_y = y.to_numpy()#changing format"
   ]
  },
  {
   "cell_type": "code",
   "execution_count": 33,
   "metadata": {},
   "outputs": [
    {
     "data": {
      "text/plain": [
       "(60,)"
      ]
     },
     "execution_count": 33,
     "metadata": {},
     "output_type": "execute_result"
    }
   ],
   "source": [
    "train_y.shape"
   ]
  },
  {
   "cell_type": "code",
   "execution_count": 34,
   "metadata": {},
   "outputs": [
    {
     "data": {
      "text/plain": [
       "((50, 17), (50,), (10, 17), (10,))"
      ]
     },
     "execution_count": 34,
     "metadata": {},
     "output_type": "execute_result"
    }
   ],
   "source": [
    "x_train = train_x[:50]#training timings\n",
    "y_train = train_y[:50]#training labels\n",
    "x_test = train_x[50:]#testing timings\n",
    "y_test = train_y[50:]#testing labels\n",
    "\n",
    "x_train.shape, y_train.shape, x_test.shape, y_test.shape"
   ]
  },
  {
   "cell_type": "code",
   "execution_count": 35,
   "metadata": {},
   "outputs": [],
   "source": [
    "#All classifier\n",
    "from sklearn.svm import SVC\n",
    "from sklearn.linear_model import LogisticRegression\n",
    "from sklearn.tree import DecisionTreeClassifier\n",
    "from sklearn.ensemble import RandomForestClassifier\n"
   ]
  },
  {
   "cell_type": "code",
   "execution_count": 36,
   "metadata": {},
   "outputs": [
    {
     "name": "stdout",
     "output_type": "stream",
     "text": [
      "Train ACC : 0.86\n",
      "Test ACC : 0.5\n"
     ]
    }
   ],
   "source": [
    "# Logistic Regression\n",
    "model = LogisticRegression()\n",
    "model.fit(x_train, y_train)\n",
    "\n",
    "print(\"Train ACC : {}\\nTest ACC : {}\".format(model.score(x_train, y_train), model.score(x_test, y_test)))"
   ]
  },
  {
   "cell_type": "code",
   "execution_count": 37,
   "metadata": {},
   "outputs": [
    {
     "name": "stdout",
     "output_type": "stream",
     "text": [
      "Train ACC : 1.0\n",
      "Test ACC : 0.5\n"
     ]
    }
   ],
   "source": [
    "#decision Tree Classifier\n",
    "model = DecisionTreeClassifier(max_depth=3)\n",
    "model.fit(x_train, y_train)\n",
    "\n",
    "print(\"Train ACC : {}\\nTest ACC : {}\".format(model.score(x_train, y_train), model.score(x_test, y_test)))"
   ]
  },
  {
   "cell_type": "code",
   "execution_count": 38,
   "metadata": {},
   "outputs": [
    {
     "name": "stdout",
     "output_type": "stream",
     "text": [
      "Train ACC : 1.0\n",
      "Test ACC : 0.9\n"
     ]
    }
   ],
   "source": [
    "model = RandomForestClassifier()\n",
    "model.fit(x_train, y_train)\n",
    "\n",
    "print(\"Train ACC : {}\\nTest ACC : {}\".format(model.score(x_train, y_train), model.score(x_test, y_test)))"
   ]
  },
  {
   "cell_type": "code",
   "execution_count": 39,
   "metadata": {},
   "outputs": [
    {
     "name": "stdout",
     "output_type": "stream",
     "text": [
      "Train ACC : 0.94\n",
      "Test ACC : 0.4\n"
     ]
    }
   ],
   "source": [
    "# SVC \n",
    "\n",
    "model = SVC()\n",
    "model.fit(x_train, y_train)\n",
    "\n",
    "print(\"Train ACC : {}\\nTest ACC : {}\".format(model.score(x_train, y_train), model.score(x_test, y_test)))"
   ]
  },
  {
   "cell_type": "code",
   "execution_count": 45,
   "metadata": {},
   "outputs": [
    {
     "data": {
      "text/plain": [
       "(50, 2)"
      ]
     },
     "execution_count": 45,
     "metadata": {},
     "output_type": "execute_result"
    }
   ],
   "source": [
    "# PCA\n",
    "\n",
    "from sklearn.decomposition import PCA\n",
    "pca = PCA(n_components=2)\n",
    "\n",
    "train_x_pca = pca.fit_transform(x_train)\n",
    "train_x_pca.shape"
   ]
  },
  {
   "cell_type": "code",
   "execution_count": 46,
   "metadata": {},
   "outputs": [
    {
     "data": {
      "text/plain": [
       "(10, 2)"
      ]
     },
     "execution_count": 46,
     "metadata": {},
     "output_type": "execute_result"
    }
   ],
   "source": [
    "test_x_pca = pca.fit_transform(x_test)\n",
    "test_x_pca.shape"
   ]
  },
  {
   "cell_type": "code",
   "execution_count": 51,
   "metadata": {},
   "outputs": [],
   "source": [
    "# # PCA\n",
    "\n",
    "# from sklearn.decomposition import PCA\n",
    "# pca = PCA(n_components=2)\n",
    "\n",
    "# train_x_pca = pca.fit_transform(x_train)\n",
    "# train_x_pca.shape\n",
    "# test_x_pca = pca.fit_transform(x_test)\n",
    "# test_x_pca.shape"
   ]
  },
  {
   "cell_type": "code",
   "execution_count": 62,
   "metadata": {},
   "outputs": [
    {
     "data": {
      "text/plain": [
       "<matplotlib.collections.PathCollection at 0x7f12e00a2780>"
      ]
     },
     "execution_count": 62,
     "metadata": {},
     "output_type": "execute_result"
    },
    {
     "data": {
      "image/png": "[encoded data removed]",
      "text/plain": [
       "<Figure size 432x288 with 1 Axes>"
      ]
     },
     "metadata": {},
     "output_type": "display_data"
    }
   ],
   "source": [
    "plt.scatter(train_x_pca[:, 0], train_x_pca[:, 1], c=y_train, s=50, cmap='autumn')"
   ]
  },
  {
   "cell_type": "code",
   "execution_count": 63,
   "metadata": {},
   "outputs": [
    {
     "name": "stdout",
     "output_type": "stream",
     "text": [
      "Train ACC : 0.84\n",
      "Test ACC : 0.7\n"
     ]
    }
   ],
   "source": [
    "#SVC after PCA\n",
    "\n",
    "model = SVC(kernel = 'rbf')\n",
    "model.fit(train_x_pca, y_train)\n",
    "\n",
    "print(\"Train ACC : {}\\nTest ACC : {}\".format(model.score(train_x_pca, y_train), model.score(test_x_pca, y_test)))"
   ]
  },
  {
   "cell_type": "code",
   "execution_count": null,
   "metadata": {},
   "outputs": [],
   "source": []
  },
  {
   "cell_type": "code",
   "execution_count": null,
   "metadata": {},
   "outputs": [],
   "source": []
  },
  {
   "cell_type": "code",
   "execution_count": null,
   "metadata": {},
   "outputs": [],
   "source": []
  }
 ],
 "metadata": {
  "kernelspec": {
   "display_name": "Python 3",
   "language": "python",
   "name": "python3"
  },
  "language_info": {
   "codemirror_mode": {
    "name": "ipython",
    "version": 3
   },
   "file_extension": ".py",
   "mimetype": "text/x-python",
   "name": "python",
   "nbconvert_exporter": "python",
   "pygments_lexer": "ipython3",
   "version": "3.6.9"
  }
 },
 "nbformat": 4,
 "nbformat_minor": 2
}
